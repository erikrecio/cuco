{
 "cells": [
  {
   "cell_type": "code",
   "execution_count": 2,
   "metadata": {},
   "outputs": [],
   "source": [
    "import re"
   ]
  },
  {
   "cell_type": "code",
   "execution_count": 9,
   "metadata": {},
   "outputs": [],
   "source": [
    "with open('result.txt','r') as my_file:\n",
    "    raw_lines = my_file.readlines()\n",
    "\n",
    "lines = []\n",
    "for raw_line in raw_lines:\n",
    "    raw_line = re.sub('tensor\\(', \"\",  raw_line)\n",
    "    raw_line = re.sub(', requires_grad\\=True\\)',\"\", raw_line)\n",
    "    lines.append(raw_line)\n",
    "\n",
    "with open('result_edt.txt','w') as my_file:\n",
    "    my_file.writelines(lines)"
   ]
  }
 ],
 "metadata": {
  "kernelspec": {
   "display_name": "Python 3",
   "language": "python",
   "name": "python3"
  },
  "language_info": {
   "codemirror_mode": {
    "name": "ipython",
    "version": 3
   },
   "file_extension": ".py",
   "mimetype": "text/x-python",
   "name": "python",
   "nbconvert_exporter": "python",
   "pygments_lexer": "ipython3",
   "version": "3.10.2"
  },
  "orig_nbformat": 4,
  "vscode": {
   "interpreter": {
    "hash": "0e922cdce7d21a0e73c82437ce0d75da4ff495d019292f273c28fbd55b05fac9"
   }
  }
 },
 "nbformat": 4,
 "nbformat_minor": 2
}
