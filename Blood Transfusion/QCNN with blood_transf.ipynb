{
 "cells": [
  {
   "cell_type": "code",
   "execution_count": 45,
   "metadata": {},
   "outputs": [],
   "source": [
    "# from https://code.datasciencedojo.com/datasciencedojo/datasets/tree/master/Blood%20Transfusion%20Service%20Center\n",
    "\n",
    "import pennylane as qml\n",
    "from pennylane import numpy as np\n",
    "from pennylane.optimize import AdamOptimizer\n",
    "\n",
    "import pandas as pd\n",
    "from datetime import datetime\n",
    "from sklearn.model_selection import train_test_split\n",
    "from sklearn.preprocessing import StandardScaler\n",
    "\n",
    "# Set a random seed\n",
    "# np.random.seed(42)"
   ]
  },
  {
   "attachments": {},
   "cell_type": "markdown",
   "metadata": {},
   "source": [
    "### Data load"
   ]
  },
  {
   "cell_type": "code",
   "execution_count": 46,
   "metadata": {},
   "outputs": [],
   "source": [
    "data_df = pd.read_csv('./transfusion.data.csv')\n",
    "data_df.rename(columns={'Monetary (c.c. blood)': 'Volume (c.c. blood)'}, inplace=True)\n",
    "\n",
    "short_df = data_df.copy()\n",
    "for col in short_df.columns:\n",
    "    shortname = col.split()[0]\n",
    "    short_df.rename(columns={col:shortname}, inplace=True)\n",
    "    \n",
    "X = short_df[short_df.columns[:-1]]\n",
    "y = short_df['whether']\n",
    "\n",
    "X_train, X_test, y_train, y_test = train_test_split(X, y, test_size=.25)\n",
    "\n",
    "scaler = StandardScaler()\n",
    "X_train = scaler.fit_transform(X_train)\n",
    "X_test = scaler.transform(X_test)\n",
    "y_train = np.array(y_train, requires_grad = False)\n",
    "y_test = np.array(y_test, requires_grad = False)"
   ]
  },
  {
   "attachments": {},
   "cell_type": "markdown",
   "metadata": {},
   "source": [
    "### Useful functions"
   ]
  },
  {
   "cell_type": "code",
   "execution_count": 47,
   "metadata": {},
   "outputs": [],
   "source": [
    "def iterate_minibatches(inputs, targets, batch_size):\n",
    "    \"\"\"\n",
    "    A generator for batches of the input data\n",
    "\n",
    "    Args:\n",
    "        inputs (array[float]): input data\n",
    "        targets (array[float]): targets\n",
    "\n",
    "    Returns:\n",
    "        inputs (array[float]): one batch of input data of length `batch_size`\n",
    "        targets (array[float]): one batch of targets of length `batch_size`\n",
    "    \"\"\"\n",
    "    for start_idx in range(0, inputs.shape[0] - batch_size + 1, batch_size):\n",
    "        idxs = slice(start_idx, start_idx + batch_size)\n",
    "        yield inputs[idxs], targets[idxs]"
   ]
  },
  {
   "cell_type": "code",
   "execution_count": 48,
   "metadata": {},
   "outputs": [],
   "source": [
    "# Define output labels as quantum state vectors\n",
    "def density_matrix(state):\n",
    "    \"\"\"Calculates the density matrix representation of a state.\n",
    "\n",
    "    Args:\n",
    "        state (array[complex]): array representing a quantum state vector\n",
    "\n",
    "    Returns:\n",
    "        dm: (array[complex]): array representing the density matrix\n",
    "    \"\"\"\n",
    "    return state * np.conj(state).T"
   ]
  },
  {
   "attachments": {},
   "cell_type": "markdown",
   "metadata": {},
   "source": [
    "### Quantum circuits"
   ]
  },
  {
   "cell_type": "code",
   "execution_count": 49,
   "metadata": {},
   "outputs": [],
   "source": [
    "def U_SU4(params, wires):  # General circuit for 2 qubits, 15 params\n",
    "    qml.U3(params[0], params[1], params[2], wires=wires[0])\n",
    "    qml.U3(params[3], params[4], params[5], wires=wires[1])\n",
    "    qml.CNOT(wires=[wires[0], wires[1]])\n",
    "    qml.RY(params[6], wires=wires[0])\n",
    "    qml.RZ(params[7], wires=wires[1])\n",
    "    qml.CNOT(wires=[wires[1], wires[0]])\n",
    "    qml.RY(params[8], wires=wires[0])\n",
    "    qml.CNOT(wires=[wires[0], wires[1]])\n",
    "    qml.U3(params[9], params[10], params[11], wires=wires[0])\n",
    "    qml.U3(params[12], params[13], params[14], wires=wires[1])\n",
    "\n",
    "def Pooling_ansatz1(params, wires): #2 params\n",
    "    qml.CRZ(params[0], wires=[wires[0], wires[1]])\n",
    "    qml.PauliX(wires=wires[0])\n",
    "    qml.CRX(params[1], wires=[wires[0], wires[1]])"
   ]
  },
  {
   "cell_type": "code",
   "execution_count": 50,
   "metadata": {},
   "outputs": [],
   "source": [
    "dev = qml.device(\"lightning.qubit\", wires=4)\n",
    "@qml.qnode(dev, interface=\"autograd\", diff_method =\"adjoint\")\n",
    "def QCNN(params, x, M):\n",
    "    p1 = params[0:15]\n",
    "    p2 = params[15:30]\n",
    "    p3 = params[30:32]\n",
    "    p4 = params[32:34]\n",
    "    p5 = params[34:49]\n",
    "    p6 = params[49:51]\n",
    "    \n",
    "    qml.RY(x[0], wires=0)\n",
    "    qml.RY(x[1], wires=1)\n",
    "    qml.RY(x[2], wires=2)\n",
    "    qml.RY(x[3], wires=3)\n",
    "    \n",
    "    U_SU4(p1, [0,1])\n",
    "    U_SU4(p2, [2,3])\n",
    "    Pooling_ansatz1(p3, [1,0])\n",
    "    Pooling_ansatz1(p4, [3,2])\n",
    "    U_SU4(p5, [0,2])\n",
    "    Pooling_ansatz1(p6, [0,2])\n",
    "    \n",
    "    return qml.expval(qml.Hermitian(M, wires=[2]))\n",
    "\n",
    "dev = qml.device(\"lightning.qubit\", wires=4)\n",
    "@qml.qnode(dev, interface=\"autograd\", diff_method=\"adjoint\")\n",
    "def QCNN_reuploading(params, x, M):\n",
    "\n",
    "    p1 = params[0:15]\n",
    "    p2 = params[15:30]\n",
    "    p3 = params[30:32]\n",
    "    p4 = params[32:34]\n",
    "    p5 = params[34:49]\n",
    "    p6 = params[49:51]\n",
    "    \n",
    "    qml.RY(x[0], wires=0)\n",
    "    qml.RY(x[1], wires=1)\n",
    "    qml.RY(x[2], wires=2)\n",
    "    qml.RY(x[3], wires=3)\n",
    "    \n",
    "    U_SU4(p1, [0,1])\n",
    "    U_SU4(p2, [2,3])\n",
    "    Pooling_ansatz1(p3, [1,0])\n",
    "    Pooling_ansatz1(p4, [3,2])\n",
    "    \n",
    "    qml.Rot(x[0], x[1], 0, wires = 0)\n",
    "    qml.Rot(x[2], x[3], 0, wires = 2)\n",
    "    \n",
    "    U_SU4(p5, [0,2])\n",
    "    Pooling_ansatz1(p6, [0,2])\n",
    "\n",
    "    return qml.expval(qml.Hermitian(M, wires=[0]))"
   ]
  },
  {
   "attachments": {},
   "cell_type": "markdown",
   "metadata": {},
   "source": [
    "### Cost"
   ]
  },
  {
   "cell_type": "code",
   "execution_count": 51,
   "metadata": {},
   "outputs": [],
   "source": [
    "def cost(params, x, y, state_labels=None):\n",
    "    \"\"\"Cost function to be minimized.\n",
    "\n",
    "    Args:\n",
    "        params (array[float]): array of parameters\n",
    "        x (array[float]): 2-d array of input vectors\n",
    "        y (array[float]): 1-d array of targets\n",
    "        state_labels (array[float]): array of state representations for labels\n",
    "\n",
    "    Returns:\n",
    "        float: loss value to be minimized\n",
    "    \"\"\"\n",
    "    # Compute prediction for each input in data batch\n",
    "    loss = 0.0\n",
    "    dm_labels = [density_matrix(s) for s in state_labels]\n",
    "    # print(dm_labels) #!------------------------------------------------------------------------ Mirar si surt 3D: no, surt bé --------------------------\n",
    "    for i in range(len(x)):\n",
    "        f = QCNN(params, x[i], dm_labels[y[i]])\n",
    "        loss = loss + (1 - f) ** 2  #!-------------------------------------------------------- usem cross entropy? ------------------------\n",
    "    return loss / len(x)"
   ]
  },
  {
   "attachments": {},
   "cell_type": "markdown",
   "metadata": {},
   "source": [
    "### Test and accuracy"
   ]
  },
  {
   "cell_type": "code",
   "execution_count": 52,
   "metadata": {},
   "outputs": [],
   "source": [
    "\n",
    "def test(params, x, y, state_labels=None):\n",
    "    \"\"\"\n",
    "    Tests on a given set of data.\n",
    "\n",
    "    Args:\n",
    "        params (array[float]): array of parameters\n",
    "        x (array[float]): 2-d array of input vectors\n",
    "        y (array[float]): 1-d array of targets\n",
    "        state_labels (array[float]): 1-d array of state representations for labels\n",
    "\n",
    "    Returns:\n",
    "        predicted (array([int]): predicted labels for test data\n",
    "        output_states (array[float]): output quantum states from the circuit\n",
    "    \"\"\"\n",
    "    fidelity_values = []\n",
    "    dm_labels = [density_matrix(s) for s in state_labels]\n",
    "    predicted = []\n",
    "\n",
    "    for i in range(len(x)):\n",
    "        fidel_function = lambda y: qcircuit(params, x[i], y)\n",
    "        fidelities = [fidel_function(dm) for dm in dm_labels]\n",
    "        best_fidel = np.argmax(fidelities)\n",
    "\n",
    "        predicted.append(best_fidel)\n",
    "        fidelity_values.append(fidelities)\n",
    "\n",
    "    return np.array(predicted), np.array(fidelity_values)\n",
    "\n",
    "\n",
    "def accuracy_score(y_true, y_pred):\n",
    "    \"\"\"Accuracy score.\n",
    "\n",
    "    Args:\n",
    "        y_true (array[float]): 1-d array of targets\n",
    "        y_predicted (array[float]): 1-d array of predictions\n",
    "        state_labels (array[float]): 1-d array of state representations for labels\n",
    "\n",
    "    Returns:\n",
    "        score (float): the fraction of correctly classified samples\n",
    "    \"\"\"\n",
    "    score = y_true == y_pred\n",
    "    return score.sum() / len(y_true)"
   ]
  },
  {
   "attachments": {},
   "cell_type": "markdown",
   "metadata": {},
   "source": [
    "### Execution"
   ]
  },
  {
   "cell_type": "code",
   "execution_count": 59,
   "metadata": {},
   "outputs": [
    {
     "name": "stdout",
     "output_type": "stream",
     "text": [
      "Epoch: 1 | Cost: 0.2051568498385202\n",
      "Epoch: 2 | Cost: 0.1962074556397591\n",
      "Epoch: 3 | Cost: 0.19357864335849825\n",
      "Epoch: 4 | Cost: 0.18912507918727187\n",
      "Epoch: 5 | Cost: 0.18693347190479565\n",
      "Epoch: 6 | Cost: 0.18524279222901732\n",
      "Epoch: 7 | Cost: 0.18441560562427062\n",
      "Epoch: 8 | Cost: 0.18404535801647087\n",
      "Epoch: 9 | Cost: 0.18420115880258855\n",
      "Epoch: 10 | Cost: 0.1839822298714257\n",
      "QCNN_reuploading, epochs = 10, acc = 0.7540106951871658\n"
     ]
    }
   ],
   "source": [
    "# Train using Adam optimizer and evaluate the classifier\n",
    "qcircuit = QCNN_reuploading # QCNN or QCNN_reuploading\n",
    "learning_rate = 0.05\n",
    "epochs = 10\n",
    "batch_size = 30\n",
    "\n",
    "label_0 = [[1], [0]]\n",
    "label_1 = [[0], [1]]\n",
    "state_labels = np.array([label_0, label_1], requires_grad=False)\n",
    "\n",
    "# print(state_labels)\n",
    "opt = AdamOptimizer(learning_rate, beta1=0.9, beta2=0.999)\n",
    "\n",
    "# initialize random weights\n",
    "if qcircuit == QCNN:\n",
    "    params = np.random.uniform(size=(51), requires_grad=True)\n",
    "    circuit_name = \"QCNN\"\n",
    "\n",
    "elif qcircuit == QCNN_reuploading:\n",
    "    params = np.random.uniform(size=(51), requires_grad=True)\n",
    "    circuit_name = \"QCNN_reuploading\"\n",
    "\n",
    "cost_history = []\n",
    "for it in range(epochs):\n",
    "    for Xbatch, ybatch in iterate_minibatches(X_train, y_train, batch_size=batch_size):\n",
    "        variables, cost_value = opt.step_and_cost(cost, params, Xbatch, ybatch, state_labels)\n",
    "        params = variables[0]\n",
    "        \n",
    "    print(f'Epoch: {it + 1} | Cost: {cost_value}')\n",
    "    cost_history.append(float(cost_value))\n",
    "    \n",
    "predicted_test, fidel_test = test(params, X_test, y_test, state_labels)\n",
    "accuracy_test = accuracy_score(y_test, predicted_test)\n",
    "\n",
    "print(f\"{circuit_name}, epochs = {epochs}, acc = {accuracy_test}\")\n",
    "\n",
    "with open('Results/results.txt', 'a') as f:\n",
    "    f.write(datetime.now().strftime(\"%d/%m/%Y %H:%M:%S\") + \"\\n\")\n",
    "    f.write(f\"Cost History for {circuit_name}, epochs = {epochs}, acc = {accuracy_test}\\n\")\n",
    "    f.write(str(cost_history) + \"\\n\\n\")\n"
   ]
  }
 ],
 "metadata": {
  "kernelspec": {
   "display_name": "venv",
   "language": "python",
   "name": "python3"
  },
  "language_info": {
   "codemirror_mode": {
    "name": "ipython",
    "version": 3
   },
   "file_extension": ".py",
   "mimetype": "text/x-python",
   "name": "python",
   "nbconvert_exporter": "python",
   "pygments_lexer": "ipython3",
   "version": "3.10.7"
  },
  "orig_nbformat": 4
 },
 "nbformat": 4,
 "nbformat_minor": 2
}
