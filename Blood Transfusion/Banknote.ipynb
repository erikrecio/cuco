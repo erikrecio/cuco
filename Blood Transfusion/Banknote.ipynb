{
 "cells": [
  {
   "cell_type": "code",
   "execution_count": 1,
   "metadata": {},
   "outputs": [],
   "source": [
    "import pandas as pd"
   ]
  },
  {
   "cell_type": "code",
   "execution_count": 6,
   "metadata": {},
   "outputs": [
    {
     "data": {
      "text/plain": [
       "(0    762\n",
       " 1    610\n",
       " Name: 4, dtype: int64,\n",
       "             0         1        2        3  4\n",
       " 0     3.62160   8.66610  -2.8073 -0.44699  0\n",
       " 1     4.54590   8.16740  -2.4586 -1.46210  0\n",
       " 2     3.86600  -2.63830   1.9242  0.10645  0\n",
       " 3     3.45660   9.52280  -4.0112 -3.59440  0\n",
       " 4     0.32924  -4.45520   4.5718 -0.98880  0\n",
       " ...       ...       ...      ...      ... ..\n",
       " 1367  0.40614   1.34920  -1.4501 -0.55949  1\n",
       " 1368 -1.38870  -4.87730   6.4774  0.34179  1\n",
       " 1369 -3.75030 -13.45860  17.5932 -2.77710  1\n",
       " 1370 -3.56370  -8.38270  12.3930 -1.28230  1\n",
       " 1371 -2.54190  -0.65804   2.6842  1.19520  1\n",
       " \n",
       " [1372 rows x 5 columns])"
      ]
     },
     "execution_count": 6,
     "metadata": {},
     "output_type": "execute_result"
    }
   ],
   "source": [
    "data_df = pd.read_csv('./data_banknote_authentication.txt', header=None)\n",
    "data_df[4].value_counts(), data_df"
   ]
  },
  {
   "cell_type": "code",
   "execution_count": 7,
   "metadata": {},
   "outputs": [
    {
     "data": {
      "text/html": [
       "<div>\n",
       "<style scoped>\n",
       "    .dataframe tbody tr th:only-of-type {\n",
       "        vertical-align: middle;\n",
       "    }\n",
       "\n",
       "    .dataframe tbody tr th {\n",
       "        vertical-align: top;\n",
       "    }\n",
       "\n",
       "    .dataframe thead th {\n",
       "        text-align: right;\n",
       "    }\n",
       "</style>\n",
       "<table border=\"1\" class=\"dataframe\">\n",
       "  <thead>\n",
       "    <tr style=\"text-align: right;\">\n",
       "      <th></th>\n",
       "      <th>0</th>\n",
       "      <th>1</th>\n",
       "      <th>2</th>\n",
       "      <th>3</th>\n",
       "      <th>4</th>\n",
       "    </tr>\n",
       "  </thead>\n",
       "  <tbody>\n",
       "    <tr>\n",
       "      <th>count</th>\n",
       "      <td>1372.000000</td>\n",
       "      <td>1372.000000</td>\n",
       "      <td>1372.000000</td>\n",
       "      <td>1372.000000</td>\n",
       "      <td>1372.000000</td>\n",
       "    </tr>\n",
       "    <tr>\n",
       "      <th>mean</th>\n",
       "      <td>0.433735</td>\n",
       "      <td>1.922353</td>\n",
       "      <td>1.397627</td>\n",
       "      <td>-1.191657</td>\n",
       "      <td>0.444606</td>\n",
       "    </tr>\n",
       "    <tr>\n",
       "      <th>std</th>\n",
       "      <td>2.842763</td>\n",
       "      <td>5.869047</td>\n",
       "      <td>4.310030</td>\n",
       "      <td>2.101013</td>\n",
       "      <td>0.497103</td>\n",
       "    </tr>\n",
       "    <tr>\n",
       "      <th>min</th>\n",
       "      <td>-7.042100</td>\n",
       "      <td>-13.773100</td>\n",
       "      <td>-5.286100</td>\n",
       "      <td>-8.548200</td>\n",
       "      <td>0.000000</td>\n",
       "    </tr>\n",
       "    <tr>\n",
       "      <th>25%</th>\n",
       "      <td>-1.773000</td>\n",
       "      <td>-1.708200</td>\n",
       "      <td>-1.574975</td>\n",
       "      <td>-2.413450</td>\n",
       "      <td>0.000000</td>\n",
       "    </tr>\n",
       "    <tr>\n",
       "      <th>50%</th>\n",
       "      <td>0.496180</td>\n",
       "      <td>2.319650</td>\n",
       "      <td>0.616630</td>\n",
       "      <td>-0.586650</td>\n",
       "      <td>0.000000</td>\n",
       "    </tr>\n",
       "    <tr>\n",
       "      <th>75%</th>\n",
       "      <td>2.821475</td>\n",
       "      <td>6.814625</td>\n",
       "      <td>3.179250</td>\n",
       "      <td>0.394810</td>\n",
       "      <td>1.000000</td>\n",
       "    </tr>\n",
       "    <tr>\n",
       "      <th>max</th>\n",
       "      <td>6.824800</td>\n",
       "      <td>12.951600</td>\n",
       "      <td>17.927400</td>\n",
       "      <td>2.449500</td>\n",
       "      <td>1.000000</td>\n",
       "    </tr>\n",
       "  </tbody>\n",
       "</table>\n",
       "</div>"
      ],
      "text/plain": [
       "                 0            1            2            3            4\n",
       "count  1372.000000  1372.000000  1372.000000  1372.000000  1372.000000\n",
       "mean      0.433735     1.922353     1.397627    -1.191657     0.444606\n",
       "std       2.842763     5.869047     4.310030     2.101013     0.497103\n",
       "min      -7.042100   -13.773100    -5.286100    -8.548200     0.000000\n",
       "25%      -1.773000    -1.708200    -1.574975    -2.413450     0.000000\n",
       "50%       0.496180     2.319650     0.616630    -0.586650     0.000000\n",
       "75%       2.821475     6.814625     3.179250     0.394810     1.000000\n",
       "max       6.824800    12.951600    17.927400     2.449500     1.000000"
      ]
     },
     "execution_count": 7,
     "metadata": {},
     "output_type": "execute_result"
    }
   ],
   "source": [
    "data_df.describe()"
   ]
  },
  {
   "cell_type": "code",
   "execution_count": 13,
   "metadata": {},
   "outputs": [],
   "source": [
    "import numpy as np\n",
    "\n",
    "def accuracy_score(y_real, y_pred):\n",
    "    TP = sum(y_real * y_pred)\n",
    "    FP = sum(np.logical_not(y_real) * y_pred)\n",
    "    TN = sum(np.logical_not(y_real) * np.logical_not(y_pred))\n",
    "    FN = sum(y_real * np.logical_not(y_pred))\n",
    "\n",
    "    accuracy = (TP+TN)/(TP+TN+FP+FN)\n",
    "    precision = TP/(TP+FP)\n",
    "    recall = TP/(TP+FN)\n",
    "    F1 = 2*precision*recall / (precision + recall)\n",
    "    specificity = TN/(TN+FP)\n",
    "\n",
    "    return accuracy, precision, recall, F1, specificity"
   ]
  },
  {
   "cell_type": "code",
   "execution_count": 22,
   "metadata": {},
   "outputs": [
    {
     "data": {
      "text/plain": [
       "((1234, 4), (1234,), (138, 4), (138,))"
      ]
     },
     "execution_count": 22,
     "metadata": {},
     "output_type": "execute_result"
    }
   ],
   "source": [
    "from sklearn.model_selection import train_test_split\n",
    "\n",
    "X = data_df[data_df.columns[:-1]]\n",
    "y = data_df[4]\n",
    "\n",
    "X_train, X_test, y_train, y_test = train_test_split(X,y, test_size=.1)\n",
    "X_train.shape, y_train.shape, X_test.shape, y_test.shape"
   ]
  },
  {
   "cell_type": "code",
   "execution_count": 28,
   "metadata": {},
   "outputs": [
    {
     "name": "stdout",
     "output_type": "stream",
     "text": [
      "Score Train:\n",
      "accuracy = 100.00%, precision = 100.00%, recall = 100.00%, F1 = 100.00%, specificity = 100.00%\n",
      "\n",
      "Score Test:\n",
      "accuracy = 99.28%, precision = 98.65%, recall = 100.00%, F1 = 99.32%, specificity = 98.46%\n"
     ]
    }
   ],
   "source": [
    "from sklearn.ensemble import RandomForestClassifier\n",
    "\n",
    "RFclassifier = RandomForestClassifier()#n_estimators=200, max_samples=.3)\n",
    "RFclassifier.fit(X_train, y_train);\n",
    "\n",
    "y_tr_pred = RFclassifier.predict(X_train)\n",
    "print(\"Score Train:\")\n",
    "accuracy, precision, recall, F1, specificity = accuracy_score(y_train, y_tr_pred)\n",
    "print(f\"accuracy = {accuracy*100:.2f}%, precision = {precision*100:.2f}%, recall = {recall*100:.2f}%, F1 = {F1*100:.2f}%, specificity = {specificity*100:.2f}%\\n\")\n",
    "\n",
    "y_te_pred = RFclassifier.predict(X_test)\n",
    "print(\"Score Test:\")\n",
    "accuracy, precision, recall, F1, specificity = accuracy_score(y_test, y_te_pred)\n",
    "print(f\"accuracy = {accuracy*100:.2f}%, precision = {precision*100:.2f}%, recall = {recall*100:.2f}%, F1 = {F1*100:.2f}%, specificity = {specificity*100:.2f}%\")\n"
   ]
  },
  {
   "cell_type": "code",
   "execution_count": 43,
   "metadata": {},
   "outputs": [
    {
     "name": "stdout",
     "output_type": "stream",
     "text": [
      "Model: \"sequential_3\"\n",
      "_________________________________________________________________\n",
      " Layer (type)                Output Shape              Param #   \n",
      "=================================================================\n",
      " dense_12 (Dense)            (None, 8)                 40        \n",
      "                                                                 \n",
      " dense_13 (Dense)            (None, 8)                 72        \n",
      "                                                                 \n",
      " dense_14 (Dense)            (None, 4)                 36        \n",
      "                                                                 \n",
      " dense_15 (Dense)            (None, 1)                 5         \n",
      "                                                                 \n",
      "=================================================================\n",
      "Total params: 153\n",
      "Trainable params: 153\n",
      "Non-trainable params: 0\n",
      "_________________________________________________________________\n"
     ]
    }
   ],
   "source": [
    "import tensorflow as tf\n",
    "\n",
    "model = tf.keras.Sequential([\n",
    "    tf.keras.layers.Dense(8, activation='relu', input_shape = (X_train.shape[1],)),\n",
    "    # tf.keras.layers.Dense(16, activation='tanh'),\n",
    "    # tf.keras.layers.BatchNormalization(), tf.keras.layers.ReLU(),\n",
    "    tf.keras.layers.Dense(8, activation='relu'),\n",
    "    tf.keras.layers.Dense(4, activation='relu'),\n",
    "    tf.keras.layers.Dense(1, activation='sigmoid')])\n",
    "\n",
    "model.compile(optimizer='Adam', loss='binary_crossentropy', metrics=['accuracy'])\n",
    "model.summary()"
   ]
  },
  {
   "cell_type": "code",
   "execution_count": 44,
   "metadata": {},
   "outputs": [
    {
     "name": "stdout",
     "output_type": "stream",
     "text": [
      "Epoch 1/50\n",
      "10/10 [==============================] - 1s 2ms/step - loss: 0.9556 - accuracy: 0.6086\n",
      "Epoch 2/50\n",
      "10/10 [==============================] - 0s 3ms/step - loss: 0.8567 - accuracy: 0.6086\n",
      "Epoch 3/50\n",
      "10/10 [==============================] - 0s 4ms/step - loss: 0.7721 - accuracy: 0.6135\n",
      "Epoch 4/50\n",
      "10/10 [==============================] - 0s 3ms/step - loss: 0.7020 - accuracy: 0.6199\n",
      "Epoch 5/50\n",
      "10/10 [==============================] - 0s 3ms/step - loss: 0.6491 - accuracy: 0.6313\n",
      "Epoch 6/50\n",
      "10/10 [==============================] - 0s 3ms/step - loss: 0.6062 - accuracy: 0.6499\n",
      "Epoch 7/50\n",
      "10/10 [==============================] - 0s 4ms/step - loss: 0.5730 - accuracy: 0.7553\n",
      "Epoch 8/50\n",
      "10/10 [==============================] - 0s 3ms/step - loss: 0.5456 - accuracy: 0.7796\n",
      "Epoch 9/50\n",
      "10/10 [==============================] - 0s 3ms/step - loss: 0.5221 - accuracy: 0.7934\n",
      "Epoch 10/50\n",
      "10/10 [==============================] - 0s 2ms/step - loss: 0.5003 - accuracy: 0.8136\n",
      "Epoch 11/50\n",
      "10/10 [==============================] - 0s 4ms/step - loss: 0.4805 - accuracy: 0.8306\n",
      "Epoch 12/50\n",
      "10/10 [==============================] - 0s 4ms/step - loss: 0.4612 - accuracy: 0.8395\n",
      "Epoch 13/50\n",
      "10/10 [==============================] - 0s 3ms/step - loss: 0.4418 - accuracy: 0.8412\n",
      "Epoch 14/50\n",
      "10/10 [==============================] - 0s 3ms/step - loss: 0.4229 - accuracy: 0.8525\n",
      "Epoch 15/50\n",
      "10/10 [==============================] - 0s 2ms/step - loss: 0.4041 - accuracy: 0.8703\n",
      "Epoch 16/50\n",
      "10/10 [==============================] - 0s 3ms/step - loss: 0.3853 - accuracy: 0.8776\n",
      "Epoch 17/50\n",
      "10/10 [==============================] - 0s 2ms/step - loss: 0.3663 - accuracy: 0.8817\n",
      "Epoch 18/50\n",
      "10/10 [==============================] - 0s 3ms/step - loss: 0.3469 - accuracy: 0.8947\n",
      "Epoch 19/50\n",
      "10/10 [==============================] - 0s 4ms/step - loss: 0.3272 - accuracy: 0.9060\n",
      "Epoch 20/50\n",
      "10/10 [==============================] - 0s 3ms/step - loss: 0.3074 - accuracy: 0.9149\n",
      "Epoch 21/50\n",
      "10/10 [==============================] - 0s 2ms/step - loss: 0.2879 - accuracy: 0.9238\n",
      "Epoch 22/50\n",
      "10/10 [==============================] - 0s 2ms/step - loss: 0.2689 - accuracy: 0.9352\n",
      "Epoch 23/50\n",
      "10/10 [==============================] - 0s 3ms/step - loss: 0.2509 - accuracy: 0.9400\n",
      "Epoch 24/50\n",
      "10/10 [==============================] - 0s 2ms/step - loss: 0.2335 - accuracy: 0.9449\n",
      "Epoch 25/50\n",
      "10/10 [==============================] - 0s 2ms/step - loss: 0.2169 - accuracy: 0.9530\n",
      "Epoch 26/50\n",
      "10/10 [==============================] - 0s 3ms/step - loss: 0.2013 - accuracy: 0.9611\n",
      "Epoch 27/50\n",
      "10/10 [==============================] - 0s 2ms/step - loss: 0.1850 - accuracy: 0.9684\n",
      "Epoch 28/50\n",
      "10/10 [==============================] - 0s 2ms/step - loss: 0.1692 - accuracy: 0.9741\n",
      "Epoch 29/50\n",
      "10/10 [==============================] - 0s 2ms/step - loss: 0.1545 - accuracy: 0.9773\n",
      "Epoch 30/50\n",
      "10/10 [==============================] - 0s 2ms/step - loss: 0.1410 - accuracy: 0.9781\n",
      "Epoch 31/50\n",
      "10/10 [==============================] - 0s 1ms/step - loss: 0.1286 - accuracy: 0.9838\n",
      "Epoch 32/50\n",
      "10/10 [==============================] - 0s 2ms/step - loss: 0.1176 - accuracy: 0.9854\n",
      "Epoch 33/50\n",
      "10/10 [==============================] - 0s 2ms/step - loss: 0.1075 - accuracy: 0.9878\n",
      "Epoch 34/50\n",
      "10/10 [==============================] - 0s 2ms/step - loss: 0.0981 - accuracy: 0.9887\n",
      "Epoch 35/50\n",
      "10/10 [==============================] - 0s 2ms/step - loss: 0.0894 - accuracy: 0.9895\n",
      "Epoch 36/50\n",
      "10/10 [==============================] - 0s 2ms/step - loss: 0.0809 - accuracy: 0.9919\n",
      "Epoch 37/50\n",
      "10/10 [==============================] - 0s 2ms/step - loss: 0.0737 - accuracy: 0.9943\n",
      "Epoch 38/50\n",
      "10/10 [==============================] - 0s 2ms/step - loss: 0.0672 - accuracy: 0.9959\n",
      "Epoch 39/50\n",
      "10/10 [==============================] - 0s 2ms/step - loss: 0.0616 - accuracy: 0.9959\n",
      "Epoch 40/50\n",
      "10/10 [==============================] - 0s 2ms/step - loss: 0.0562 - accuracy: 0.9959\n",
      "Epoch 41/50\n",
      "10/10 [==============================] - 0s 2ms/step - loss: 0.0513 - accuracy: 0.9984\n",
      "Epoch 42/50\n",
      "10/10 [==============================] - 0s 2ms/step - loss: 0.0467 - accuracy: 0.9984\n",
      "Epoch 43/50\n",
      "10/10 [==============================] - 0s 2ms/step - loss: 0.0425 - accuracy: 0.9984\n",
      "Epoch 44/50\n",
      "10/10 [==============================] - 0s 1ms/step - loss: 0.0386 - accuracy: 0.9984\n",
      "Epoch 45/50\n",
      "10/10 [==============================] - 0s 2ms/step - loss: 0.0353 - accuracy: 0.9984\n",
      "Epoch 46/50\n",
      "10/10 [==============================] - 0s 1ms/step - loss: 0.0325 - accuracy: 0.9984\n",
      "Epoch 47/50\n",
      "10/10 [==============================] - 0s 1ms/step - loss: 0.0301 - accuracy: 0.9992\n",
      "Epoch 48/50\n",
      "10/10 [==============================] - 0s 2ms/step - loss: 0.0279 - accuracy: 0.9992\n",
      "Epoch 49/50\n",
      "10/10 [==============================] - 0s 2ms/step - loss: 0.0260 - accuracy: 0.9992\n",
      "Epoch 50/50\n",
      "10/10 [==============================] - 0s 2ms/step - loss: 0.0243 - accuracy: 1.0000\n"
     ]
    }
   ],
   "source": [
    "fitting = model.fit(X_train, y_train, epochs=50, batch_size=128);"
   ]
  },
  {
   "cell_type": "code",
   "execution_count": 45,
   "metadata": {},
   "outputs": [
    {
     "data": {
      "image/png": "[encoded data removed]",
      "text/plain": [
       "<Figure size 1440x360 with 2 Axes>"
      ]
     },
     "metadata": {
      "needs_background": "light"
     },
     "output_type": "display_data"
    }
   ],
   "source": [
    "import pandas as pd\n",
    "import matplotlib.pyplot as plt\n",
    "\n",
    "df_loss_acc = pd.DataFrame(fitting.history)\n",
    "df_loss= df_loss_acc[['loss']]\n",
    "df_acc= df_loss_acc[['accuracy']]\n",
    "fig, ax = plt.subplots(1,2, figsize=(20,5))\n",
    "ax[0].plot(df_loss)\n",
    "ax[0].set(title='Model loss', xlabel='Epoch', ylabel='Loss')\n",
    "ax[1].plot(df_acc)\n",
    "ax[1].set(title='Model Accuracy', xlabel='Epoch',ylabel='Accuracy');"
   ]
  },
  {
   "cell_type": "code",
   "execution_count": 46,
   "metadata": {},
   "outputs": [
    {
     "name": "stdout",
     "output_type": "stream",
     "text": [
      "Score Train:\n",
      "accuracy = 100.00%, precision = 100.00%, recall = 100.00%, F1 = 100.00%, specificity = 100.00%\n",
      "\n",
      "Score Test:\n",
      "accuracy = 100.00%, precision = 100.00%, recall = 100.00%, F1 = 100.00%, specificity = 100.00%\n"
     ]
    }
   ],
   "source": [
    "y_tr_pred = np.round(model.predict(X_train, verbose=0))\n",
    "y_ts_pred = np.round(model.predict(X_test, verbose=0))\n",
    "\n",
    "print(\"Score Train:\")\n",
    "y_pred = y_tr_pred.reshape(-1,).astype(int)\n",
    "y_real = np.array(y_train)\n",
    "\n",
    "accuracy, precision, recall, F1, specificity = accuracy_score(y_real, y_pred)\n",
    "print(f\"accuracy = {accuracy*100:.2f}%, precision = {precision*100:.2f}%, recall = {recall*100:.2f}%, F1 = {F1*100:.2f}%, specificity = {specificity*100:.2f}%\\n\")\n",
    "\n",
    "\n",
    "print(\"Score Test:\")\n",
    "y_pred = y_ts_pred.reshape(-1,).astype(int)\n",
    "y_real = np.array(y_test)\n",
    "\n",
    "accuracy, precision, recall, F1, specificity = accuracy_score(y_real, y_pred)\n",
    "print(f\"accuracy = {accuracy*100:.2f}%, precision = {precision*100:.2f}%, recall = {recall*100:.2f}%, F1 = {F1*100:.2f}%, specificity = {specificity*100:.2f}%\")"
   ]
  }
 ],
 "metadata": {
  "kernelspec": {
   "display_name": "Python 3",
   "language": "python",
   "name": "python3"
  },
  "language_info": {
   "codemirror_mode": {
    "name": "ipython",
    "version": 3
   },
   "file_extension": ".py",
   "mimetype": "text/x-python",
   "name": "python",
   "nbconvert_exporter": "python",
   "pygments_lexer": "ipython3",
   "version": "3.10.2"
  },
  "orig_nbformat": 4
 },
 "nbformat": 4,
 "nbformat_minor": 2
}
