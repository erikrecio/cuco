{
 "cells": [
  {
   "cell_type": "code",
   "execution_count": 1,
   "metadata": {},
   "outputs": [],
   "source": [
    "import pandas as pd"
   ]
  },
  {
   "cell_type": "code",
   "execution_count": 6,
   "metadata": {},
   "outputs": [
    {
     "data": {
      "text/plain": [
       "(0    762\n",
       " 1    610\n",
       " Name: 4, dtype: int64,\n",
       "             0         1        2        3  4\n",
       " 0     3.62160   8.66610  -2.8073 -0.44699  0\n",
       " 1     4.54590   8.16740  -2.4586 -1.46210  0\n",
       " 2     3.86600  -2.63830   1.9242  0.10645  0\n",
       " 3     3.45660   9.52280  -4.0112 -3.59440  0\n",
       " 4     0.32924  -4.45520   4.5718 -0.98880  0\n",
       " ...       ...       ...      ...      ... ..\n",
       " 1367  0.40614   1.34920  -1.4501 -0.55949  1\n",
       " 1368 -1.38870  -4.87730   6.4774  0.34179  1\n",
       " 1369 -3.75030 -13.45860  17.5932 -2.77710  1\n",
       " 1370 -3.56370  -8.38270  12.3930 -1.28230  1\n",
       " 1371 -2.54190  -0.65804   2.6842  1.19520  1\n",
       " \n",
       " [1372 rows x 5 columns])"
      ]
     },
     "execution_count": 6,
     "metadata": {},
     "output_type": "execute_result"
    }
   ],
   "source": [
    "data_df = pd.read_csv('./data_banknote_authentication.txt', header=None)\n",
    "data_df[4].value_counts(), data_df"
   ]
  },
  {
   "cell_type": "code",
   "execution_count": 7,
   "metadata": {},
   "outputs": [
    {
     "data": {
      "text/html": [
       "<div>\n",
       "<style scoped>\n",
       "    .dataframe tbody tr th:only-of-type {\n",
       "        vertical-align: middle;\n",
       "    }\n",
       "\n",
       "    .dataframe tbody tr th {\n",
       "        vertical-align: top;\n",
       "    }\n",
       "\n",
       "    .dataframe thead th {\n",
       "        text-align: right;\n",
       "    }\n",
       "</style>\n",
       "<table border=\"1\" class=\"dataframe\">\n",
       "  <thead>\n",
       "    <tr style=\"text-align: right;\">\n",
       "      <th></th>\n",
       "      <th>0</th>\n",
       "      <th>1</th>\n",
       "      <th>2</th>\n",
       "      <th>3</th>\n",
       "      <th>4</th>\n",
       "    </tr>\n",
       "  </thead>\n",
       "  <tbody>\n",
       "    <tr>\n",
       "      <th>count</th>\n",
       "      <td>1372.000000</td>\n",
       "      <td>1372.000000</td>\n",
       "      <td>1372.000000</td>\n",
       "      <td>1372.000000</td>\n",
       "      <td>1372.000000</td>\n",
       "    </tr>\n",
       "    <tr>\n",
       "      <th>mean</th>\n",
       "      <td>0.433735</td>\n",
       "      <td>1.922353</td>\n",
       "      <td>1.397627</td>\n",
       "      <td>-1.191657</td>\n",
       "      <td>0.444606</td>\n",
       "    </tr>\n",
       "    <tr>\n",
       "      <th>std</th>\n",
       "      <td>2.842763</td>\n",
       "      <td>5.869047</td>\n",
       "      <td>4.310030</td>\n",
       "      <td>2.101013</td>\n",
       "      <td>0.497103</td>\n",
       "    </tr>\n",
       "    <tr>\n",
       "      <th>min</th>\n",
       "      <td>-7.042100</td>\n",
       "      <td>-13.773100</td>\n",
       "      <td>-5.286100</td>\n",
       "      <td>-8.548200</td>\n",
       "      <td>0.000000</td>\n",
       "    </tr>\n",
       "    <tr>\n",
       "      <th>25%</th>\n",
       "      <td>-1.773000</td>\n",
       "      <td>-1.708200</td>\n",
       "      <td>-1.574975</td>\n",
       "      <td>-2.413450</td>\n",
       "      <td>0.000000</td>\n",
       "    </tr>\n",
       "    <tr>\n",
       "      <th>50%</th>\n",
       "      <td>0.496180</td>\n",
       "      <td>2.319650</td>\n",
       "      <td>0.616630</td>\n",
       "      <td>-0.586650</td>\n",
       "      <td>0.000000</td>\n",
       "    </tr>\n",
       "    <tr>\n",
       "      <th>75%</th>\n",
       "      <td>2.821475</td>\n",
       "      <td>6.814625</td>\n",
       "      <td>3.179250</td>\n",
       "      <td>0.394810</td>\n",
       "      <td>1.000000</td>\n",
       "    </tr>\n",
       "    <tr>\n",
       "      <th>max</th>\n",
       "      <td>6.824800</td>\n",
       "      <td>12.951600</td>\n",
       "      <td>17.927400</td>\n",
       "      <td>2.449500</td>\n",
       "      <td>1.000000</td>\n",
       "    </tr>\n",
       "  </tbody>\n",
       "</table>\n",
       "</div>"
      ],
      "text/plain": [
       "                 0            1            2            3            4\n",
       "count  1372.000000  1372.000000  1372.000000  1372.000000  1372.000000\n",
       "mean      0.433735     1.922353     1.397627    -1.191657     0.444606\n",
       "std       2.842763     5.869047     4.310030     2.101013     0.497103\n",
       "min      -7.042100   -13.773100    -5.286100    -8.548200     0.000000\n",
       "25%      -1.773000    -1.708200    -1.574975    -2.413450     0.000000\n",
       "50%       0.496180     2.319650     0.616630    -0.586650     0.000000\n",
       "75%       2.821475     6.814625     3.179250     0.394810     1.000000\n",
       "max       6.824800    12.951600    17.927400     2.449500     1.000000"
      ]
     },
     "execution_count": 7,
     "metadata": {},
     "output_type": "execute_result"
    }
   ],
   "source": [
    "data_df.describe()"
   ]
  },
  {
   "cell_type": "code",
   "execution_count": 13,
   "metadata": {},
   "outputs": [],
   "source": [
    "import numpy as np\n",
    "\n",
    "def accuracy_score(y_real, y_pred):\n",
    "    TP = sum(y_real * y_pred)\n",
    "    FP = sum(np.logical_not(y_real) * y_pred)\n",
    "    TN = sum(np.logical_not(y_real) * np.logical_not(y_pred))\n",
    "    FN = sum(y_real * np.logical_not(y_pred))\n",
    "\n",
    "    accuracy = (TP+TN)/(TP+TN+FP+FN)\n",
    "    precision = TP/(TP+FP)\n",
    "    recall = TP/(TP+FN)\n",
    "    F1 = 2*precision*recall / (precision + recall)\n",
    "    specificity = TN/(TN+FP)\n",
    "\n",
    "    return accuracy, precision, recall, F1, specificity"
   ]
  },
  {
   "cell_type": "code",
   "execution_count": 47,
   "metadata": {},
   "outputs": [
    {
     "data": {
      "text/plain": [
       "((1097, 4), (1097,), (275, 4), (275,))"
      ]
     },
     "execution_count": 47,
     "metadata": {},
     "output_type": "execute_result"
    }
   ],
   "source": [
    "from sklearn.model_selection import train_test_split\n",
    "\n",
    "X = data_df[data_df.columns[:-1]]\n",
    "y = data_df[4]\n",
    "\n",
    "X_train, X_test, y_train, y_test = train_test_split(X,y, test_size=.2)\n",
    "X_train.shape, y_train.shape, X_test.shape, y_test.shape"
   ]
  },
  {
   "attachments": {},
   "cell_type": "markdown",
   "metadata": {},
   "source": [
    "### Random Forest"
   ]
  },
  {
   "cell_type": "code",
   "execution_count": 49,
   "metadata": {},
   "outputs": [
    {
     "name": "stdout",
     "output_type": "stream",
     "text": [
      "Score Train:\n",
      "accuracy = 100.00%, precision = 100.00%, recall = 100.00%, F1 = 100.00%, specificity = 100.00%\n",
      "\n",
      "Score Test:\n",
      "accuracy = 99.64%, precision = 100.00%, recall = 99.15%, F1 = 99.57%, specificity = 100.00%\n"
     ]
    }
   ],
   "source": [
    "from sklearn.ensemble import RandomForestClassifier\n",
    "\n",
    "RFclassifier = RandomForestClassifier()#n_estimators=200, max_samples=.3)\n",
    "RFclassifier.fit(X_train, y_train);\n",
    "\n",
    "y_tr_pred = RFclassifier.predict(X_train)\n",
    "print(\"Score Train:\")\n",
    "accuracy, precision, recall, F1, specificity = accuracy_score(y_train, y_tr_pred)\n",
    "print(f\"accuracy = {accuracy*100:.2f}%, precision = {precision*100:.2f}%, recall = {recall*100:.2f}%, F1 = {F1*100:.2f}%, specificity = {specificity*100:.2f}%\\n\")\n",
    "\n",
    "y_te_pred = RFclassifier.predict(X_test)\n",
    "print(\"Score Test:\")\n",
    "accuracy, precision, recall, F1, specificity = accuracy_score(y_test, y_te_pred)\n",
    "print(f\"accuracy = {accuracy*100:.2f}%, precision = {precision*100:.2f}%, recall = {recall*100:.2f}%, F1 = {F1*100:.2f}%, specificity = {specificity*100:.2f}%\")\n"
   ]
  },
  {
   "attachments": {},
   "cell_type": "markdown",
   "metadata": {},
   "source": [
    "### NN (Tensorflow)"
   ]
  },
  {
   "cell_type": "code",
   "execution_count": 50,
   "metadata": {},
   "outputs": [
    {
     "name": "stdout",
     "output_type": "stream",
     "text": [
      "Model: \"sequential_4\"\n",
      "_________________________________________________________________\n",
      " Layer (type)                Output Shape              Param #   \n",
      "=================================================================\n",
      " dense_16 (Dense)            (None, 8)                 40        \n",
      "                                                                 \n",
      " dense_17 (Dense)            (None, 8)                 72        \n",
      "                                                                 \n",
      " dense_18 (Dense)            (None, 4)                 36        \n",
      "                                                                 \n",
      " dense_19 (Dense)            (None, 1)                 5         \n",
      "                                                                 \n",
      "=================================================================\n",
      "Total params: 153\n",
      "Trainable params: 153\n",
      "Non-trainable params: 0\n",
      "_________________________________________________________________\n"
     ]
    }
   ],
   "source": [
    "import tensorflow as tf\n",
    "\n",
    "model = tf.keras.Sequential([\n",
    "    tf.keras.layers.Dense(8, activation='relu', input_shape = (X_train.shape[1],)),\n",
    "    # tf.keras.layers.Dense(16, activation='tanh'),\n",
    "    # tf.keras.layers.BatchNormalization(), tf.keras.layers.ReLU(),\n",
    "    tf.keras.layers.Dense(8, activation='relu'),\n",
    "    tf.keras.layers.Dense(4, activation='relu'),\n",
    "    tf.keras.layers.Dense(1, activation='sigmoid')])\n",
    "\n",
    "model.compile(optimizer='Adam', loss='binary_crossentropy', metrics=['accuracy'])\n",
    "model.summary()"
   ]
  },
  {
   "cell_type": "code",
   "execution_count": 51,
   "metadata": {},
   "outputs": [
    {
     "name": "stdout",
     "output_type": "stream",
     "text": [
      "Epoch 1/50\n",
      "9/9 [==============================] - 1s 1ms/step - loss: 1.6125 - accuracy: 0.2215\n",
      "Epoch 2/50\n",
      "9/9 [==============================] - 0s 2ms/step - loss: 1.3849 - accuracy: 0.2115\n",
      "Epoch 3/50\n",
      "9/9 [==============================] - 0s 3ms/step - loss: 1.1926 - accuracy: 0.2498\n",
      "Epoch 4/50\n",
      "9/9 [==============================] - 0s 2ms/step - loss: 1.0338 - accuracy: 0.2808\n",
      "Epoch 5/50\n",
      "9/9 [==============================] - 0s 2ms/step - loss: 0.9044 - accuracy: 0.2735\n",
      "Epoch 6/50\n",
      "9/9 [==============================] - 0s 3ms/step - loss: 0.8040 - accuracy: 0.3136\n",
      "Epoch 7/50\n",
      "9/9 [==============================] - 0s 3ms/step - loss: 0.7325 - accuracy: 0.3792\n",
      "Epoch 8/50\n",
      "9/9 [==============================] - 0s 3ms/step - loss: 0.6852 - accuracy: 0.4111\n",
      "Epoch 9/50\n",
      "9/9 [==============================] - 0s 4ms/step - loss: 0.6491 - accuracy: 0.4412\n",
      "Epoch 10/50\n",
      "9/9 [==============================] - 0s 2ms/step - loss: 0.6193 - accuracy: 0.4686\n",
      "Epoch 11/50\n",
      "9/9 [==============================] - 0s 2ms/step - loss: 0.5922 - accuracy: 0.4913\n",
      "Epoch 12/50\n",
      "9/9 [==============================] - 0s 2ms/step - loss: 0.5667 - accuracy: 0.5114\n",
      "Epoch 13/50\n",
      "9/9 [==============================] - 0s 2ms/step - loss: 0.5433 - accuracy: 0.5242\n",
      "Epoch 14/50\n",
      "9/9 [==============================] - 0s 3ms/step - loss: 0.5217 - accuracy: 0.5360\n",
      "Epoch 15/50\n",
      "9/9 [==============================] - 0s 2ms/step - loss: 0.5032 - accuracy: 0.5451\n",
      "Epoch 16/50\n",
      "9/9 [==============================] - 0s 3ms/step - loss: 0.4864 - accuracy: 0.5469\n",
      "Epoch 17/50\n",
      "9/9 [==============================] - 0s 2ms/step - loss: 0.4711 - accuracy: 0.5506\n",
      "Epoch 18/50\n",
      "9/9 [==============================] - 0s 2ms/step - loss: 0.4568 - accuracy: 0.5524\n",
      "Epoch 19/50\n",
      "9/9 [==============================] - 0s 4ms/step - loss: 0.4439 - accuracy: 0.7083\n",
      "Epoch 20/50\n",
      "9/9 [==============================] - 0s 2ms/step - loss: 0.4314 - accuracy: 0.7429\n",
      "Epoch 21/50\n",
      "9/9 [==============================] - 0s 7ms/step - loss: 0.4197 - accuracy: 0.7894\n",
      "Epoch 22/50\n",
      "9/9 [==============================] - 0s 3ms/step - loss: 0.4085 - accuracy: 0.8423\n",
      "Epoch 23/50\n",
      "9/9 [==============================] - 0s 7ms/step - loss: 0.3975 - accuracy: 0.8724\n",
      "Epoch 24/50\n",
      "9/9 [==============================] - 0s 3ms/step - loss: 0.3873 - accuracy: 0.8924\n",
      "Epoch 25/50\n",
      "9/9 [==============================] - 0s 4ms/step - loss: 0.3777 - accuracy: 0.9052\n",
      "Epoch 26/50\n",
      "9/9 [==============================] - 0s 2ms/step - loss: 0.3684 - accuracy: 0.9189\n",
      "Epoch 27/50\n",
      "9/9 [==============================] - 0s 5ms/step - loss: 0.3599 - accuracy: 0.9289\n",
      "Epoch 28/50\n",
      "9/9 [==============================] - 0s 2ms/step - loss: 0.3518 - accuracy: 0.9371\n",
      "Epoch 29/50\n",
      "9/9 [==============================] - 0s 2ms/step - loss: 0.3444 - accuracy: 0.9453\n",
      "Epoch 30/50\n",
      "9/9 [==============================] - 0s 2ms/step - loss: 0.3375 - accuracy: 0.9499\n",
      "Epoch 31/50\n",
      "9/9 [==============================] - 0s 2ms/step - loss: 0.3314 - accuracy: 0.9535\n",
      "Epoch 32/50\n",
      "9/9 [==============================] - 0s 2ms/step - loss: 0.3255 - accuracy: 0.9572\n",
      "Epoch 33/50\n",
      "9/9 [==============================] - 0s 4ms/step - loss: 0.3200 - accuracy: 0.9590\n",
      "Epoch 34/50\n",
      "9/9 [==============================] - 0s 5ms/step - loss: 0.3147 - accuracy: 0.9608\n",
      "Epoch 35/50\n",
      "9/9 [==============================] - 0s 2ms/step - loss: 0.3095 - accuracy: 0.9635\n",
      "Epoch 36/50\n",
      "9/9 [==============================] - 0s 2ms/step - loss: 0.3041 - accuracy: 0.9672\n",
      "Epoch 37/50\n",
      "9/9 [==============================] - 0s 2ms/step - loss: 0.2987 - accuracy: 0.9690\n",
      "Epoch 38/50\n",
      "9/9 [==============================] - 0s 2ms/step - loss: 0.2936 - accuracy: 0.9736\n",
      "Epoch 39/50\n",
      "9/9 [==============================] - 0s 2ms/step - loss: 0.2891 - accuracy: 0.9745\n",
      "Epoch 40/50\n",
      "9/9 [==============================] - 0s 2ms/step - loss: 0.2849 - accuracy: 0.9790\n",
      "Epoch 41/50\n",
      "9/9 [==============================] - 0s 2ms/step - loss: 0.2811 - accuracy: 0.9836\n",
      "Epoch 42/50\n",
      "9/9 [==============================] - 0s 3ms/step - loss: 0.2776 - accuracy: 0.9872\n",
      "Epoch 43/50\n",
      "9/9 [==============================] - 0s 2ms/step - loss: 0.2744 - accuracy: 0.9881\n",
      "Epoch 44/50\n",
      "9/9 [==============================] - 0s 2ms/step - loss: 0.2713 - accuracy: 0.9891\n",
      "Epoch 45/50\n",
      "9/9 [==============================] - 0s 3ms/step - loss: 0.2684 - accuracy: 0.9891\n",
      "Epoch 46/50\n",
      "9/9 [==============================] - 0s 3ms/step - loss: 0.2656 - accuracy: 0.9900\n",
      "Epoch 47/50\n",
      "9/9 [==============================] - 0s 2ms/step - loss: 0.2628 - accuracy: 0.9900\n",
      "Epoch 48/50\n",
      "9/9 [==============================] - 0s 2ms/step - loss: 0.2603 - accuracy: 0.9909\n",
      "Epoch 49/50\n",
      "9/9 [==============================] - 0s 2ms/step - loss: 0.2578 - accuracy: 0.9918\n",
      "Epoch 50/50\n",
      "9/9 [==============================] - 0s 1ms/step - loss: 0.2553 - accuracy: 0.9918\n"
     ]
    }
   ],
   "source": [
    "fitting = model.fit(X_train, y_train, epochs=50, batch_size=128);"
   ]
  },
  {
   "cell_type": "code",
   "execution_count": 52,
   "metadata": {},
   "outputs": [
    {
     "data": {
      "image/png": "[encoded data removed]",
      "text/plain": [
       "<Figure size 1440x360 with 2 Axes>"
      ]
     },
     "metadata": {
      "needs_background": "light"
     },
     "output_type": "display_data"
    }
   ],
   "source": [
    "import pandas as pd\n",
    "import matplotlib.pyplot as plt\n",
    "\n",
    "df_loss_acc = pd.DataFrame(fitting.history)\n",
    "df_loss= df_loss_acc[['loss']]\n",
    "df_acc= df_loss_acc[['accuracy']]\n",
    "fig, ax = plt.subplots(1,2, figsize=(20,5))\n",
    "ax[0].plot(df_loss)\n",
    "ax[0].set(title='Model loss', xlabel='Epoch', ylabel='Loss')\n",
    "ax[1].plot(df_acc)\n",
    "ax[1].set(title='Model Accuracy', xlabel='Epoch',ylabel='Accuracy');"
   ]
  },
  {
   "cell_type": "code",
   "execution_count": 53,
   "metadata": {},
   "outputs": [
    {
     "name": "stdout",
     "output_type": "stream",
     "text": [
      "Score Train:\n",
      "accuracy = 99.27%, precision = 100.00%, recall = 98.37%, F1 = 99.18%, specificity = 100.00%\n",
      "\n",
      "Score Test:\n",
      "accuracy = 99.27%, precision = 100.00%, recall = 98.31%, F1 = 99.15%, specificity = 100.00%\n"
     ]
    }
   ],
   "source": [
    "y_tr_pred = np.round(model.predict(X_train, verbose=0))\n",
    "y_ts_pred = np.round(model.predict(X_test, verbose=0))\n",
    "\n",
    "print(\"Score Train:\")\n",
    "y_pred = y_tr_pred.reshape(-1,).astype(int)\n",
    "y_real = np.array(y_train)\n",
    "\n",
    "accuracy, precision, recall, F1, specificity = accuracy_score(y_real, y_pred)\n",
    "print(f\"accuracy = {accuracy*100:.2f}%, precision = {precision*100:.2f}%, recall = {recall*100:.2f}%, F1 = {F1*100:.2f}%, specificity = {specificity*100:.2f}%\\n\")\n",
    "\n",
    "\n",
    "print(\"Score Test:\")\n",
    "y_pred = y_ts_pred.reshape(-1,).astype(int)\n",
    "y_real = np.array(y_test)\n",
    "\n",
    "accuracy, precision, recall, F1, specificity = accuracy_score(y_real, y_pred)\n",
    "print(f\"accuracy = {accuracy*100:.2f}%, precision = {precision*100:.2f}%, recall = {recall*100:.2f}%, F1 = {F1*100:.2f}%, specificity = {specificity*100:.2f}%\")"
   ]
  }
 ],
 "metadata": {
  "kernelspec": {
   "display_name": "Python 3",
   "language": "python",
   "name": "python3"
  },
  "language_info": {
   "codemirror_mode": {
    "name": "ipython",
    "version": 3
   },
   "file_extension": ".py",
   "mimetype": "text/x-python",
   "name": "python",
   "nbconvert_exporter": "python",
   "pygments_lexer": "ipython3",
   "version": "3.10.2"
  },
  "orig_nbformat": 4
 },
 "nbformat": 4,
 "nbformat_minor": 2
}
